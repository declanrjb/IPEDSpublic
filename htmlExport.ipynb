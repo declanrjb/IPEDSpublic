{
 "cells": [
  {
   "cell_type": "code",
   "execution_count": 215,
   "metadata": {},
   "outputs": [],
   "source": [
    "import os\n",
    "import pandas as pd"
   ]
  },
  {
   "cell_type": "code",
   "execution_count": 216,
   "metadata": {},
   "outputs": [],
   "source": [
    "def apply_replacements(replacements, in_file, out_file):\n",
    "    with open(in_file, 'r') as document:\n",
    "        content = document.read()\n",
    "\n",
    "    replacements = {'{{' + k + '}}':v for k, v in replacements.items()}\n",
    "\n",
    "    for placeholder, value in replacements.items():\n",
    "        content = content.replace(placeholder,value)\n",
    "\n",
    "    with open(out_file, 'w') as out_file:\n",
    "        out_file.write(content)"
   ]
  },
  {
   "cell_type": "code",
   "execution_count": 217,
   "metadata": {},
   "outputs": [],
   "source": [
    "def table_export(df):\n",
    "    return df.to_html(index=False).replace('&lt;','<').replace('&gt;','>')"
   ]
  },
  {
   "cell_type": "code",
   "execution_count": 218,
   "metadata": {},
   "outputs": [],
   "source": [
    "def anchorify(content, href):\n",
    "    return f'<a href=\"{href}\">{content}</a>'"
   ]
  },
  {
   "cell_type": "code",
   "execution_count": 219,
   "metadata": {},
   "outputs": [],
   "source": [
    "directories = pd.Series(os.listdir('directory'))"
   ]
  },
  {
   "cell_type": "code",
   "execution_count": 220,
   "metadata": {},
   "outputs": [],
   "source": [
    "years = directories.apply(lambda x: x.split('_')[0]).sort_values().reset_index(drop=True)"
   ]
  },
  {
   "cell_type": "code",
   "execution_count": 221,
   "metadata": {},
   "outputs": [],
   "source": [
    "year_options = '\\n'.join([f'<option value=\"{year}\">{year}</option>' for year in years])\n",
    "year_selector = '<select name=\"year\" id=\"year-select\">' + year_options + '</select>'"
   ]
  },
  {
   "cell_type": "code",
   "execution_count": 222,
   "metadata": {},
   "outputs": [],
   "source": [
    "directory = list(directories)[-1]"
   ]
  },
  {
   "cell_type": "code",
   "execution_count": 223,
   "metadata": {},
   "outputs": [],
   "source": [
    "df = pd.read_csv(f'directory/{directory}')"
   ]
  },
  {
   "cell_type": "code",
   "execution_count": 224,
   "metadata": {},
   "outputs": [],
   "source": [
    "df['CSV'] = [anchorify(filename, f'raw_data/{year}/{filename}.zip') for year, filename in zip(df['Year'], df['Data File'])]\n",
    "df['STATA'] = [anchorify(filename, f'raw_data/{year}/{filename}_STATA.zip') for year, filename in zip(df['Year'], df['Data File'])]\n",
    "df['DICT'] = [anchorify(filename, f'raw_data/{year}/{filename}_Dict.zip') for year, filename in zip(df['Year'], df['Data File'])]"
   ]
  },
  {
   "cell_type": "code",
   "execution_count": 225,
   "metadata": {},
   "outputs": [],
   "source": [
    "df = df[['Year', 'Survey', 'Title', 'CSV', 'STATA', 'DICT']]"
   ]
  },
  {
   "cell_type": "code",
   "execution_count": 226,
   "metadata": {},
   "outputs": [],
   "source": [
    "directory_table = table_export(df)"
   ]
  },
  {
   "cell_type": "code",
   "execution_count": 227,
   "metadata": {},
   "outputs": [],
   "source": [
    "replacements = {\n",
    "    'YEAR_OPTIONS': year_options,\n",
    "    'DIRECTORY': directory_table\n",
    "}"
   ]
  },
  {
   "cell_type": "code",
   "execution_count": 228,
   "metadata": {},
   "outputs": [],
   "source": [
    "apply_replacements(replacements, 'index_template.html', 'index.html')"
   ]
  }
 ],
 "metadata": {
  "kernelspec": {
   "display_name": "Python 3",
   "language": "python",
   "name": "python3"
  },
  "language_info": {
   "codemirror_mode": {
    "name": "ipython",
    "version": 3
   },
   "file_extension": ".py",
   "mimetype": "text/x-python",
   "name": "python",
   "nbconvert_exporter": "python",
   "pygments_lexer": "ipython3",
   "version": "3.11.8"
  }
 },
 "nbformat": 4,
 "nbformat_minor": 2
}
